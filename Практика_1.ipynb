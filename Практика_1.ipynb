{
  "cells": [
    {
      "cell_type": "markdown",
      "metadata": {
        "id": "tcYorCKH80fp"
      },
      "source": [
        "# МЛ Практика 1\n",
        "## Обзор занятий: Чем предстоит заниматься\n",
        "Цели сессии:\n",
        "\n",
        "1. Ознакомление с основными понятиями машинного обучения и структурой практических занятий.\n",
        "2. Представление доступных наборов данных для последующих упражнений.\n",
        "3. Формирование списка участников и распределение ролей (при необходимости).\n",
        "4. Практическое освоение методов описательного анализа данных.\n",
        "5. Понимание типов данных и их важности в контексте машинного обучения.\n",
        "План занятий:\n",
        "\n",
        "1. Введение и обзор целей курса.\n",
        "2. Представление наборов данных.\n",
        "3. Формирование списка студентов.\n",
        "4. Совместный разбор выбранного набора данных с обсуждением вопросов.\n",
        "5. Задача 1: Описание набора данных и определение типов данных.\n",
        "6. Пример статистического разбора на основе wine.csv.\n",
        "7. Обсуждение типов переменных и их определения по статистике.\n",
        "8. Вопросы и ответы, обсуждение домашних заданий."
      ]
    },
    {
      "cell_type": "markdown",
      "metadata": {
        "id": "rudyRMMW-U2i"
      },
      "source": [
        "# Наборы данных по вариантам"
      ]
    },
    {
      "cell_type": "markdown",
      "metadata": {
        "id": "idJajr0jf7hH"
      },
      "source": [
        "Набор данных"
      ]
    },
    {
      "cell_type": "markdown",
      "metadata": {
        "id": "lYr0hH-Pf7hH"
      },
      "source": [
        "1. https://www.kaggle.com/datasets/nabeelqureshitiii/student-performance-dataset\n",
        "\n"
      ]
    },
    {
      "cell_type": "markdown",
      "metadata": {
        "id": "Eho9OVlR_mar"
      },
      "source": [
        "## Описание:\n",
        "В этом разделе вы загрузите набор данных wine.csv, ознакомитесь с его структурой и проведёте первичный обзор."
      ]
    },
    {
      "cell_type": "code",
      "source": [
        "# установка зависимостей\n",
        "!pip install pandas matplotlib seaborn"
      ],
      "metadata": {
        "id": "QEXinYIXo65k",
        "colab": {
          "base_uri": "https://localhost:8080/"
        },
        "outputId": "dff02d09-7439-4d56-fa3d-3c047d0c6ed3"
      },
      "execution_count": 2,
      "outputs": [
        {
          "output_type": "stream",
          "name": "stdout",
          "text": [
            "Requirement already satisfied: pandas in /usr/local/lib/python3.12/dist-packages (2.2.2)\n",
            "Requirement already satisfied: matplotlib in /usr/local/lib/python3.12/dist-packages (3.10.0)\n",
            "Requirement already satisfied: seaborn in /usr/local/lib/python3.12/dist-packages (0.13.2)\n",
            "Requirement already satisfied: numpy>=1.26.0 in /usr/local/lib/python3.12/dist-packages (from pandas) (2.0.2)\n",
            "Requirement already satisfied: python-dateutil>=2.8.2 in /usr/local/lib/python3.12/dist-packages (from pandas) (2.9.0.post0)\n",
            "Requirement already satisfied: pytz>=2020.1 in /usr/local/lib/python3.12/dist-packages (from pandas) (2025.2)\n",
            "Requirement already satisfied: tzdata>=2022.7 in /usr/local/lib/python3.12/dist-packages (from pandas) (2025.2)\n",
            "Requirement already satisfied: contourpy>=1.0.1 in /usr/local/lib/python3.12/dist-packages (from matplotlib) (1.3.3)\n",
            "Requirement already satisfied: cycler>=0.10 in /usr/local/lib/python3.12/dist-packages (from matplotlib) (0.12.1)\n",
            "Requirement already satisfied: fonttools>=4.22.0 in /usr/local/lib/python3.12/dist-packages (from matplotlib) (4.60.0)\n",
            "Requirement already satisfied: kiwisolver>=1.3.1 in /usr/local/lib/python3.12/dist-packages (from matplotlib) (1.4.9)\n",
            "Requirement already satisfied: packaging>=20.0 in /usr/local/lib/python3.12/dist-packages (from matplotlib) (25.0)\n",
            "Requirement already satisfied: pillow>=8 in /usr/local/lib/python3.12/dist-packages (from matplotlib) (11.3.0)\n",
            "Requirement already satisfied: pyparsing>=2.3.1 in /usr/local/lib/python3.12/dist-packages (from matplotlib) (3.2.4)\n",
            "Requirement already satisfied: six>=1.5 in /usr/local/lib/python3.12/dist-packages (from python-dateutil>=2.8.2->pandas) (1.17.0)\n"
          ]
        }
      ]
    },
    {
      "cell_type": "code",
      "execution_count": 3,
      "metadata": {
        "id": "cAklc2-4_hag"
      },
      "outputs": [],
      "source": [
        "# импортируем библиотеки\n",
        "import pandas as pd\n",
        "import matplotlib.pyplot as plt\n",
        "import seaborn as sns"
      ]
    },
    {
      "cell_type": "markdown",
      "metadata": {
        "id": "gkrZd1Sf_j-4"
      },
      "source": [
        "Описание:\n",
        "В этом разделе вы загрузите набор данных wine.csv, ознакомитесь с его структурой и проведёте первичный обзор."
      ]
    },
    {
      "cell_type": "code",
      "execution_count": 6,
      "metadata": {
        "id": "_AxEco9xAAvN"
      },
      "outputs": [],
      "source": [
        "PATH_TO_FILE: str = 'student_performance.csv' # Загрузка набора данных\n",
        "## p.s. в левой панеле нажать на папку и перетащить туда файл,\n",
        "## а wince.csv заменить на свой вариант (ПКМ -> копиро вать путь)\n",
        "\n",
        "df = pd.read_csv(PATH_TO_FILE) # функция превращение данных из CSV в DataFrame"
      ]
    },
    {
      "cell_type": "code",
      "source": [
        "# вывод датафрейма\n",
        "df # p.s. обычно переменную с набором данных называют df, придерживайтесь этого наименования в дальнейшем"
      ],
      "metadata": {
        "id": "vDa_xlKclsHe",
        "outputId": "4d355c19-02ef-4bc1-f4ea-94267c79e900",
        "colab": {
          "base_uri": "https://localhost:8080/",
          "height": 423
        }
      },
      "execution_count": null,
      "outputs": [
        {
          "output_type": "execute_result",
          "data": {
            "text/plain": [
              "        student_id  weekly_self_study_hours  attendance_percentage  \\\n",
              "0                1                     18.5                   95.6   \n",
              "1                2                     14.0                   80.0   \n",
              "2                3                     19.5                   86.3   \n",
              "3                4                     25.7                   70.2   \n",
              "4                5                     13.4                   81.9   \n",
              "...            ...                      ...                    ...   \n",
              "999995      999996                     18.0                   95.5   \n",
              "999996      999997                     15.7                   82.7   \n",
              "999997      999998                     14.2                   85.1   \n",
              "999998      999999                     25.3                   90.0   \n",
              "999999     1000000                     18.3                   84.6   \n",
              "\n",
              "        class_participation  total_score grade  \n",
              "0                       3.8         97.9     A  \n",
              "1                       2.5         83.9     B  \n",
              "2                       5.3        100.0     A  \n",
              "3                       7.0        100.0     A  \n",
              "4                       6.9         92.0     A  \n",
              "...                     ...          ...   ...  \n",
              "999995                  4.8        100.0     A  \n",
              "999996                  6.7         88.3     A  \n",
              "999997                  5.8         87.9     A  \n",
              "999998                  5.3        100.0     A  \n",
              "999999                  4.1        100.0     A  \n",
              "\n",
              "[1000000 rows x 6 columns]"
            ],
            "text/html": [
              "\n",
              "  <div id=\"df-5a687365-1982-46f8-a7f3-670ba5c439a7\" class=\"colab-df-container\">\n",
              "    <div>\n",
              "<style scoped>\n",
              "    .dataframe tbody tr th:only-of-type {\n",
              "        vertical-align: middle;\n",
              "    }\n",
              "\n",
              "    .dataframe tbody tr th {\n",
              "        vertical-align: top;\n",
              "    }\n",
              "\n",
              "    .dataframe thead th {\n",
              "        text-align: right;\n",
              "    }\n",
              "</style>\n",
              "<table border=\"1\" class=\"dataframe\">\n",
              "  <thead>\n",
              "    <tr style=\"text-align: right;\">\n",
              "      <th></th>\n",
              "      <th>student_id</th>\n",
              "      <th>weekly_self_study_hours</th>\n",
              "      <th>attendance_percentage</th>\n",
              "      <th>class_participation</th>\n",
              "      <th>total_score</th>\n",
              "      <th>grade</th>\n",
              "    </tr>\n",
              "  </thead>\n",
              "  <tbody>\n",
              "    <tr>\n",
              "      <th>0</th>\n",
              "      <td>1</td>\n",
              "      <td>18.5</td>\n",
              "      <td>95.6</td>\n",
              "      <td>3.8</td>\n",
              "      <td>97.9</td>\n",
              "      <td>A</td>\n",
              "    </tr>\n",
              "    <tr>\n",
              "      <th>1</th>\n",
              "      <td>2</td>\n",
              "      <td>14.0</td>\n",
              "      <td>80.0</td>\n",
              "      <td>2.5</td>\n",
              "      <td>83.9</td>\n",
              "      <td>B</td>\n",
              "    </tr>\n",
              "    <tr>\n",
              "      <th>2</th>\n",
              "      <td>3</td>\n",
              "      <td>19.5</td>\n",
              "      <td>86.3</td>\n",
              "      <td>5.3</td>\n",
              "      <td>100.0</td>\n",
              "      <td>A</td>\n",
              "    </tr>\n",
              "    <tr>\n",
              "      <th>3</th>\n",
              "      <td>4</td>\n",
              "      <td>25.7</td>\n",
              "      <td>70.2</td>\n",
              "      <td>7.0</td>\n",
              "      <td>100.0</td>\n",
              "      <td>A</td>\n",
              "    </tr>\n",
              "    <tr>\n",
              "      <th>4</th>\n",
              "      <td>5</td>\n",
              "      <td>13.4</td>\n",
              "      <td>81.9</td>\n",
              "      <td>6.9</td>\n",
              "      <td>92.0</td>\n",
              "      <td>A</td>\n",
              "    </tr>\n",
              "    <tr>\n",
              "      <th>...</th>\n",
              "      <td>...</td>\n",
              "      <td>...</td>\n",
              "      <td>...</td>\n",
              "      <td>...</td>\n",
              "      <td>...</td>\n",
              "      <td>...</td>\n",
              "    </tr>\n",
              "    <tr>\n",
              "      <th>999995</th>\n",
              "      <td>999996</td>\n",
              "      <td>18.0</td>\n",
              "      <td>95.5</td>\n",
              "      <td>4.8</td>\n",
              "      <td>100.0</td>\n",
              "      <td>A</td>\n",
              "    </tr>\n",
              "    <tr>\n",
              "      <th>999996</th>\n",
              "      <td>999997</td>\n",
              "      <td>15.7</td>\n",
              "      <td>82.7</td>\n",
              "      <td>6.7</td>\n",
              "      <td>88.3</td>\n",
              "      <td>A</td>\n",
              "    </tr>\n",
              "    <tr>\n",
              "      <th>999997</th>\n",
              "      <td>999998</td>\n",
              "      <td>14.2</td>\n",
              "      <td>85.1</td>\n",
              "      <td>5.8</td>\n",
              "      <td>87.9</td>\n",
              "      <td>A</td>\n",
              "    </tr>\n",
              "    <tr>\n",
              "      <th>999998</th>\n",
              "      <td>999999</td>\n",
              "      <td>25.3</td>\n",
              "      <td>90.0</td>\n",
              "      <td>5.3</td>\n",
              "      <td>100.0</td>\n",
              "      <td>A</td>\n",
              "    </tr>\n",
              "    <tr>\n",
              "      <th>999999</th>\n",
              "      <td>1000000</td>\n",
              "      <td>18.3</td>\n",
              "      <td>84.6</td>\n",
              "      <td>4.1</td>\n",
              "      <td>100.0</td>\n",
              "      <td>A</td>\n",
              "    </tr>\n",
              "  </tbody>\n",
              "</table>\n",
              "<p>1000000 rows × 6 columns</p>\n",
              "</div>\n",
              "    <div class=\"colab-df-buttons\">\n",
              "\n",
              "  <div class=\"colab-df-container\">\n",
              "    <button class=\"colab-df-convert\" onclick=\"convertToInteractive('df-5a687365-1982-46f8-a7f3-670ba5c439a7')\"\n",
              "            title=\"Convert this dataframe to an interactive table.\"\n",
              "            style=\"display:none;\">\n",
              "\n",
              "  <svg xmlns=\"http://www.w3.org/2000/svg\" height=\"24px\" viewBox=\"0 -960 960 960\">\n",
              "    <path d=\"M120-120v-720h720v720H120Zm60-500h600v-160H180v160Zm220 220h160v-160H400v160Zm0 220h160v-160H400v160ZM180-400h160v-160H180v160Zm440 0h160v-160H620v160ZM180-180h160v-160H180v160Zm440 0h160v-160H620v160Z\"/>\n",
              "  </svg>\n",
              "    </button>\n",
              "\n",
              "  <style>\n",
              "    .colab-df-container {\n",
              "      display:flex;\n",
              "      gap: 12px;\n",
              "    }\n",
              "\n",
              "    .colab-df-convert {\n",
              "      background-color: #E8F0FE;\n",
              "      border: none;\n",
              "      border-radius: 50%;\n",
              "      cursor: pointer;\n",
              "      display: none;\n",
              "      fill: #1967D2;\n",
              "      height: 32px;\n",
              "      padding: 0 0 0 0;\n",
              "      width: 32px;\n",
              "    }\n",
              "\n",
              "    .colab-df-convert:hover {\n",
              "      background-color: #E2EBFA;\n",
              "      box-shadow: 0px 1px 2px rgba(60, 64, 67, 0.3), 0px 1px 3px 1px rgba(60, 64, 67, 0.15);\n",
              "      fill: #174EA6;\n",
              "    }\n",
              "\n",
              "    .colab-df-buttons div {\n",
              "      margin-bottom: 4px;\n",
              "    }\n",
              "\n",
              "    [theme=dark] .colab-df-convert {\n",
              "      background-color: #3B4455;\n",
              "      fill: #D2E3FC;\n",
              "    }\n",
              "\n",
              "    [theme=dark] .colab-df-convert:hover {\n",
              "      background-color: #434B5C;\n",
              "      box-shadow: 0px 1px 3px 1px rgba(0, 0, 0, 0.15);\n",
              "      filter: drop-shadow(0px 1px 2px rgba(0, 0, 0, 0.3));\n",
              "      fill: #FFFFFF;\n",
              "    }\n",
              "  </style>\n",
              "\n",
              "    <script>\n",
              "      const buttonEl =\n",
              "        document.querySelector('#df-5a687365-1982-46f8-a7f3-670ba5c439a7 button.colab-df-convert');\n",
              "      buttonEl.style.display =\n",
              "        google.colab.kernel.accessAllowed ? 'block' : 'none';\n",
              "\n",
              "      async function convertToInteractive(key) {\n",
              "        const element = document.querySelector('#df-5a687365-1982-46f8-a7f3-670ba5c439a7');\n",
              "        const dataTable =\n",
              "          await google.colab.kernel.invokeFunction('convertToInteractive',\n",
              "                                                    [key], {});\n",
              "        if (!dataTable) return;\n",
              "\n",
              "        const docLinkHtml = 'Like what you see? Visit the ' +\n",
              "          '<a target=\"_blank\" href=https://colab.research.google.com/notebooks/data_table.ipynb>data table notebook</a>'\n",
              "          + ' to learn more about interactive tables.';\n",
              "        element.innerHTML = '';\n",
              "        dataTable['output_type'] = 'display_data';\n",
              "        await google.colab.output.renderOutput(dataTable, element);\n",
              "        const docLink = document.createElement('div');\n",
              "        docLink.innerHTML = docLinkHtml;\n",
              "        element.appendChild(docLink);\n",
              "      }\n",
              "    </script>\n",
              "  </div>\n",
              "\n",
              "\n",
              "    <div id=\"df-cee1503e-15a3-41ed-95a5-cdfab20cf388\">\n",
              "      <button class=\"colab-df-quickchart\" onclick=\"quickchart('df-cee1503e-15a3-41ed-95a5-cdfab20cf388')\"\n",
              "                title=\"Suggest charts\"\n",
              "                style=\"display:none;\">\n",
              "\n",
              "<svg xmlns=\"http://www.w3.org/2000/svg\" height=\"24px\"viewBox=\"0 0 24 24\"\n",
              "     width=\"24px\">\n",
              "    <g>\n",
              "        <path d=\"M19 3H5c-1.1 0-2 .9-2 2v14c0 1.1.9 2 2 2h14c1.1 0 2-.9 2-2V5c0-1.1-.9-2-2-2zM9 17H7v-7h2v7zm4 0h-2V7h2v10zm4 0h-2v-4h2v4z\"/>\n",
              "    </g>\n",
              "</svg>\n",
              "      </button>\n",
              "\n",
              "<style>\n",
              "  .colab-df-quickchart {\n",
              "      --bg-color: #E8F0FE;\n",
              "      --fill-color: #1967D2;\n",
              "      --hover-bg-color: #E2EBFA;\n",
              "      --hover-fill-color: #174EA6;\n",
              "      --disabled-fill-color: #AAA;\n",
              "      --disabled-bg-color: #DDD;\n",
              "  }\n",
              "\n",
              "  [theme=dark] .colab-df-quickchart {\n",
              "      --bg-color: #3B4455;\n",
              "      --fill-color: #D2E3FC;\n",
              "      --hover-bg-color: #434B5C;\n",
              "      --hover-fill-color: #FFFFFF;\n",
              "      --disabled-bg-color: #3B4455;\n",
              "      --disabled-fill-color: #666;\n",
              "  }\n",
              "\n",
              "  .colab-df-quickchart {\n",
              "    background-color: var(--bg-color);\n",
              "    border: none;\n",
              "    border-radius: 50%;\n",
              "    cursor: pointer;\n",
              "    display: none;\n",
              "    fill: var(--fill-color);\n",
              "    height: 32px;\n",
              "    padding: 0;\n",
              "    width: 32px;\n",
              "  }\n",
              "\n",
              "  .colab-df-quickchart:hover {\n",
              "    background-color: var(--hover-bg-color);\n",
              "    box-shadow: 0 1px 2px rgba(60, 64, 67, 0.3), 0 1px 3px 1px rgba(60, 64, 67, 0.15);\n",
              "    fill: var(--button-hover-fill-color);\n",
              "  }\n",
              "\n",
              "  .colab-df-quickchart-complete:disabled,\n",
              "  .colab-df-quickchart-complete:disabled:hover {\n",
              "    background-color: var(--disabled-bg-color);\n",
              "    fill: var(--disabled-fill-color);\n",
              "    box-shadow: none;\n",
              "  }\n",
              "\n",
              "  .colab-df-spinner {\n",
              "    border: 2px solid var(--fill-color);\n",
              "    border-color: transparent;\n",
              "    border-bottom-color: var(--fill-color);\n",
              "    animation:\n",
              "      spin 1s steps(1) infinite;\n",
              "  }\n",
              "\n",
              "  @keyframes spin {\n",
              "    0% {\n",
              "      border-color: transparent;\n",
              "      border-bottom-color: var(--fill-color);\n",
              "      border-left-color: var(--fill-color);\n",
              "    }\n",
              "    20% {\n",
              "      border-color: transparent;\n",
              "      border-left-color: var(--fill-color);\n",
              "      border-top-color: var(--fill-color);\n",
              "    }\n",
              "    30% {\n",
              "      border-color: transparent;\n",
              "      border-left-color: var(--fill-color);\n",
              "      border-top-color: var(--fill-color);\n",
              "      border-right-color: var(--fill-color);\n",
              "    }\n",
              "    40% {\n",
              "      border-color: transparent;\n",
              "      border-right-color: var(--fill-color);\n",
              "      border-top-color: var(--fill-color);\n",
              "    }\n",
              "    60% {\n",
              "      border-color: transparent;\n",
              "      border-right-color: var(--fill-color);\n",
              "    }\n",
              "    80% {\n",
              "      border-color: transparent;\n",
              "      border-right-color: var(--fill-color);\n",
              "      border-bottom-color: var(--fill-color);\n",
              "    }\n",
              "    90% {\n",
              "      border-color: transparent;\n",
              "      border-bottom-color: var(--fill-color);\n",
              "    }\n",
              "  }\n",
              "</style>\n",
              "\n",
              "      <script>\n",
              "        async function quickchart(key) {\n",
              "          const quickchartButtonEl =\n",
              "            document.querySelector('#' + key + ' button');\n",
              "          quickchartButtonEl.disabled = true;  // To prevent multiple clicks.\n",
              "          quickchartButtonEl.classList.add('colab-df-spinner');\n",
              "          try {\n",
              "            const charts = await google.colab.kernel.invokeFunction(\n",
              "                'suggestCharts', [key], {});\n",
              "          } catch (error) {\n",
              "            console.error('Error during call to suggestCharts:', error);\n",
              "          }\n",
              "          quickchartButtonEl.classList.remove('colab-df-spinner');\n",
              "          quickchartButtonEl.classList.add('colab-df-quickchart-complete');\n",
              "        }\n",
              "        (() => {\n",
              "          let quickchartButtonEl =\n",
              "            document.querySelector('#df-cee1503e-15a3-41ed-95a5-cdfab20cf388 button');\n",
              "          quickchartButtonEl.style.display =\n",
              "            google.colab.kernel.accessAllowed ? 'block' : 'none';\n",
              "        })();\n",
              "      </script>\n",
              "    </div>\n",
              "    </div>\n",
              "  </div>\n"
            ],
            "application/vnd.google.colaboratory.intrinsic+json": {
              "type": "dataframe",
              "variable_name": "df"
            }
          },
          "metadata": {},
          "execution_count": 39
        }
      ]
    },
    {
      "cell_type": "code",
      "execution_count": 7,
      "metadata": {
        "colab": {
          "base_uri": "https://localhost:8080/",
          "height": 206
        },
        "id": "BY0SAfx6AWXB",
        "outputId": "2d455818-1100-4089-a7ec-187c9ce52cb9"
      },
      "outputs": [
        {
          "output_type": "execute_result",
          "data": {
            "text/plain": [
              "   student_id  weekly_self_study_hours  attendance_percentage  \\\n",
              "0           1                     18.5                   95.6   \n",
              "1           2                     14.0                   80.0   \n",
              "2           3                     19.5                   86.3   \n",
              "3           4                     25.7                   70.2   \n",
              "4           5                     13.4                   81.9   \n",
              "\n",
              "   class_participation  total_score grade  \n",
              "0                  3.8         97.9     A  \n",
              "1                  2.5         83.9     B  \n",
              "2                  5.3        100.0     A  \n",
              "3                  7.0        100.0     A  \n",
              "4                  6.9         92.0     A  "
            ],
            "text/html": [
              "\n",
              "  <div id=\"df-b221a2ed-3fe6-414f-8fdc-e09edda637d1\" class=\"colab-df-container\">\n",
              "    <div>\n",
              "<style scoped>\n",
              "    .dataframe tbody tr th:only-of-type {\n",
              "        vertical-align: middle;\n",
              "    }\n",
              "\n",
              "    .dataframe tbody tr th {\n",
              "        vertical-align: top;\n",
              "    }\n",
              "\n",
              "    .dataframe thead th {\n",
              "        text-align: right;\n",
              "    }\n",
              "</style>\n",
              "<table border=\"1\" class=\"dataframe\">\n",
              "  <thead>\n",
              "    <tr style=\"text-align: right;\">\n",
              "      <th></th>\n",
              "      <th>student_id</th>\n",
              "      <th>weekly_self_study_hours</th>\n",
              "      <th>attendance_percentage</th>\n",
              "      <th>class_participation</th>\n",
              "      <th>total_score</th>\n",
              "      <th>grade</th>\n",
              "    </tr>\n",
              "  </thead>\n",
              "  <tbody>\n",
              "    <tr>\n",
              "      <th>0</th>\n",
              "      <td>1</td>\n",
              "      <td>18.5</td>\n",
              "      <td>95.6</td>\n",
              "      <td>3.8</td>\n",
              "      <td>97.9</td>\n",
              "      <td>A</td>\n",
              "    </tr>\n",
              "    <tr>\n",
              "      <th>1</th>\n",
              "      <td>2</td>\n",
              "      <td>14.0</td>\n",
              "      <td>80.0</td>\n",
              "      <td>2.5</td>\n",
              "      <td>83.9</td>\n",
              "      <td>B</td>\n",
              "    </tr>\n",
              "    <tr>\n",
              "      <th>2</th>\n",
              "      <td>3</td>\n",
              "      <td>19.5</td>\n",
              "      <td>86.3</td>\n",
              "      <td>5.3</td>\n",
              "      <td>100.0</td>\n",
              "      <td>A</td>\n",
              "    </tr>\n",
              "    <tr>\n",
              "      <th>3</th>\n",
              "      <td>4</td>\n",
              "      <td>25.7</td>\n",
              "      <td>70.2</td>\n",
              "      <td>7.0</td>\n",
              "      <td>100.0</td>\n",
              "      <td>A</td>\n",
              "    </tr>\n",
              "    <tr>\n",
              "      <th>4</th>\n",
              "      <td>5</td>\n",
              "      <td>13.4</td>\n",
              "      <td>81.9</td>\n",
              "      <td>6.9</td>\n",
              "      <td>92.0</td>\n",
              "      <td>A</td>\n",
              "    </tr>\n",
              "  </tbody>\n",
              "</table>\n",
              "</div>\n",
              "    <div class=\"colab-df-buttons\">\n",
              "\n",
              "  <div class=\"colab-df-container\">\n",
              "    <button class=\"colab-df-convert\" onclick=\"convertToInteractive('df-b221a2ed-3fe6-414f-8fdc-e09edda637d1')\"\n",
              "            title=\"Convert this dataframe to an interactive table.\"\n",
              "            style=\"display:none;\">\n",
              "\n",
              "  <svg xmlns=\"http://www.w3.org/2000/svg\" height=\"24px\" viewBox=\"0 -960 960 960\">\n",
              "    <path d=\"M120-120v-720h720v720H120Zm60-500h600v-160H180v160Zm220 220h160v-160H400v160Zm0 220h160v-160H400v160ZM180-400h160v-160H180v160Zm440 0h160v-160H620v160ZM180-180h160v-160H180v160Zm440 0h160v-160H620v160Z\"/>\n",
              "  </svg>\n",
              "    </button>\n",
              "\n",
              "  <style>\n",
              "    .colab-df-container {\n",
              "      display:flex;\n",
              "      gap: 12px;\n",
              "    }\n",
              "\n",
              "    .colab-df-convert {\n",
              "      background-color: #E8F0FE;\n",
              "      border: none;\n",
              "      border-radius: 50%;\n",
              "      cursor: pointer;\n",
              "      display: none;\n",
              "      fill: #1967D2;\n",
              "      height: 32px;\n",
              "      padding: 0 0 0 0;\n",
              "      width: 32px;\n",
              "    }\n",
              "\n",
              "    .colab-df-convert:hover {\n",
              "      background-color: #E2EBFA;\n",
              "      box-shadow: 0px 1px 2px rgba(60, 64, 67, 0.3), 0px 1px 3px 1px rgba(60, 64, 67, 0.15);\n",
              "      fill: #174EA6;\n",
              "    }\n",
              "\n",
              "    .colab-df-buttons div {\n",
              "      margin-bottom: 4px;\n",
              "    }\n",
              "\n",
              "    [theme=dark] .colab-df-convert {\n",
              "      background-color: #3B4455;\n",
              "      fill: #D2E3FC;\n",
              "    }\n",
              "\n",
              "    [theme=dark] .colab-df-convert:hover {\n",
              "      background-color: #434B5C;\n",
              "      box-shadow: 0px 1px 3px 1px rgba(0, 0, 0, 0.15);\n",
              "      filter: drop-shadow(0px 1px 2px rgba(0, 0, 0, 0.3));\n",
              "      fill: #FFFFFF;\n",
              "    }\n",
              "  </style>\n",
              "\n",
              "    <script>\n",
              "      const buttonEl =\n",
              "        document.querySelector('#df-b221a2ed-3fe6-414f-8fdc-e09edda637d1 button.colab-df-convert');\n",
              "      buttonEl.style.display =\n",
              "        google.colab.kernel.accessAllowed ? 'block' : 'none';\n",
              "\n",
              "      async function convertToInteractive(key) {\n",
              "        const element = document.querySelector('#df-b221a2ed-3fe6-414f-8fdc-e09edda637d1');\n",
              "        const dataTable =\n",
              "          await google.colab.kernel.invokeFunction('convertToInteractive',\n",
              "                                                    [key], {});\n",
              "        if (!dataTable) return;\n",
              "\n",
              "        const docLinkHtml = 'Like what you see? Visit the ' +\n",
              "          '<a target=\"_blank\" href=https://colab.research.google.com/notebooks/data_table.ipynb>data table notebook</a>'\n",
              "          + ' to learn more about interactive tables.';\n",
              "        element.innerHTML = '';\n",
              "        dataTable['output_type'] = 'display_data';\n",
              "        await google.colab.output.renderOutput(dataTable, element);\n",
              "        const docLink = document.createElement('div');\n",
              "        docLink.innerHTML = docLinkHtml;\n",
              "        element.appendChild(docLink);\n",
              "      }\n",
              "    </script>\n",
              "  </div>\n",
              "\n",
              "\n",
              "    <div id=\"df-dfb3c5f2-2c43-4989-8a16-6263429d95d0\">\n",
              "      <button class=\"colab-df-quickchart\" onclick=\"quickchart('df-dfb3c5f2-2c43-4989-8a16-6263429d95d0')\"\n",
              "                title=\"Suggest charts\"\n",
              "                style=\"display:none;\">\n",
              "\n",
              "<svg xmlns=\"http://www.w3.org/2000/svg\" height=\"24px\"viewBox=\"0 0 24 24\"\n",
              "     width=\"24px\">\n",
              "    <g>\n",
              "        <path d=\"M19 3H5c-1.1 0-2 .9-2 2v14c0 1.1.9 2 2 2h14c1.1 0 2-.9 2-2V5c0-1.1-.9-2-2-2zM9 17H7v-7h2v7zm4 0h-2V7h2v10zm4 0h-2v-4h2v4z\"/>\n",
              "    </g>\n",
              "</svg>\n",
              "      </button>\n",
              "\n",
              "<style>\n",
              "  .colab-df-quickchart {\n",
              "      --bg-color: #E8F0FE;\n",
              "      --fill-color: #1967D2;\n",
              "      --hover-bg-color: #E2EBFA;\n",
              "      --hover-fill-color: #174EA6;\n",
              "      --disabled-fill-color: #AAA;\n",
              "      --disabled-bg-color: #DDD;\n",
              "  }\n",
              "\n",
              "  [theme=dark] .colab-df-quickchart {\n",
              "      --bg-color: #3B4455;\n",
              "      --fill-color: #D2E3FC;\n",
              "      --hover-bg-color: #434B5C;\n",
              "      --hover-fill-color: #FFFFFF;\n",
              "      --disabled-bg-color: #3B4455;\n",
              "      --disabled-fill-color: #666;\n",
              "  }\n",
              "\n",
              "  .colab-df-quickchart {\n",
              "    background-color: var(--bg-color);\n",
              "    border: none;\n",
              "    border-radius: 50%;\n",
              "    cursor: pointer;\n",
              "    display: none;\n",
              "    fill: var(--fill-color);\n",
              "    height: 32px;\n",
              "    padding: 0;\n",
              "    width: 32px;\n",
              "  }\n",
              "\n",
              "  .colab-df-quickchart:hover {\n",
              "    background-color: var(--hover-bg-color);\n",
              "    box-shadow: 0 1px 2px rgba(60, 64, 67, 0.3), 0 1px 3px 1px rgba(60, 64, 67, 0.15);\n",
              "    fill: var(--button-hover-fill-color);\n",
              "  }\n",
              "\n",
              "  .colab-df-quickchart-complete:disabled,\n",
              "  .colab-df-quickchart-complete:disabled:hover {\n",
              "    background-color: var(--disabled-bg-color);\n",
              "    fill: var(--disabled-fill-color);\n",
              "    box-shadow: none;\n",
              "  }\n",
              "\n",
              "  .colab-df-spinner {\n",
              "    border: 2px solid var(--fill-color);\n",
              "    border-color: transparent;\n",
              "    border-bottom-color: var(--fill-color);\n",
              "    animation:\n",
              "      spin 1s steps(1) infinite;\n",
              "  }\n",
              "\n",
              "  @keyframes spin {\n",
              "    0% {\n",
              "      border-color: transparent;\n",
              "      border-bottom-color: var(--fill-color);\n",
              "      border-left-color: var(--fill-color);\n",
              "    }\n",
              "    20% {\n",
              "      border-color: transparent;\n",
              "      border-left-color: var(--fill-color);\n",
              "      border-top-color: var(--fill-color);\n",
              "    }\n",
              "    30% {\n",
              "      border-color: transparent;\n",
              "      border-left-color: var(--fill-color);\n",
              "      border-top-color: var(--fill-color);\n",
              "      border-right-color: var(--fill-color);\n",
              "    }\n",
              "    40% {\n",
              "      border-color: transparent;\n",
              "      border-right-color: var(--fill-color);\n",
              "      border-top-color: var(--fill-color);\n",
              "    }\n",
              "    60% {\n",
              "      border-color: transparent;\n",
              "      border-right-color: var(--fill-color);\n",
              "    }\n",
              "    80% {\n",
              "      border-color: transparent;\n",
              "      border-right-color: var(--fill-color);\n",
              "      border-bottom-color: var(--fill-color);\n",
              "    }\n",
              "    90% {\n",
              "      border-color: transparent;\n",
              "      border-bottom-color: var(--fill-color);\n",
              "    }\n",
              "  }\n",
              "</style>\n",
              "\n",
              "      <script>\n",
              "        async function quickchart(key) {\n",
              "          const quickchartButtonEl =\n",
              "            document.querySelector('#' + key + ' button');\n",
              "          quickchartButtonEl.disabled = true;  // To prevent multiple clicks.\n",
              "          quickchartButtonEl.classList.add('colab-df-spinner');\n",
              "          try {\n",
              "            const charts = await google.colab.kernel.invokeFunction(\n",
              "                'suggestCharts', [key], {});\n",
              "          } catch (error) {\n",
              "            console.error('Error during call to suggestCharts:', error);\n",
              "          }\n",
              "          quickchartButtonEl.classList.remove('colab-df-spinner');\n",
              "          quickchartButtonEl.classList.add('colab-df-quickchart-complete');\n",
              "        }\n",
              "        (() => {\n",
              "          let quickchartButtonEl =\n",
              "            document.querySelector('#df-dfb3c5f2-2c43-4989-8a16-6263429d95d0 button');\n",
              "          quickchartButtonEl.style.display =\n",
              "            google.colab.kernel.accessAllowed ? 'block' : 'none';\n",
              "        })();\n",
              "      </script>\n",
              "    </div>\n",
              "    </div>\n",
              "  </div>\n"
            ],
            "application/vnd.google.colaboratory.intrinsic+json": {
              "type": "dataframe",
              "summary": "{\n  \"name\": \"#df\",\n  \"rows\": 5,\n  \"fields\": [\n    {\n      \"column\": \"student_id\",\n      \"properties\": {\n        \"dtype\": \"number\",\n        \"std\": 1,\n        \"min\": 1,\n        \"max\": 5,\n        \"num_unique_values\": 5,\n        \"samples\": [\n          2,\n          5,\n          3\n        ],\n        \"semantic_type\": \"\",\n        \"description\": \"\"\n      }\n    },\n    {\n      \"column\": \"weekly_self_study_hours\",\n      \"properties\": {\n        \"dtype\": \"number\",\n        \"std\": 4.967594991542687,\n        \"min\": 13.4,\n        \"max\": 25.7,\n        \"num_unique_values\": 5,\n        \"samples\": [\n          14.0,\n          13.4,\n          19.5\n        ],\n        \"semantic_type\": \"\",\n        \"description\": \"\"\n      }\n    },\n    {\n      \"column\": \"attendance_percentage\",\n      \"properties\": {\n        \"dtype\": \"number\",\n        \"std\": 9.266876496425315,\n        \"min\": 70.2,\n        \"max\": 95.6,\n        \"num_unique_values\": 5,\n        \"samples\": [\n          80.0,\n          81.9,\n          86.3\n        ],\n        \"semantic_type\": \"\",\n        \"description\": \"\"\n      }\n    },\n    {\n      \"column\": \"class_participation\",\n      \"properties\": {\n        \"dtype\": \"number\",\n        \"std\": 1.958315602756614,\n        \"min\": 2.5,\n        \"max\": 7.0,\n        \"num_unique_values\": 5,\n        \"samples\": [\n          2.5,\n          6.9,\n          5.3\n        ],\n        \"semantic_type\": \"\",\n        \"description\": \"\"\n      }\n    },\n    {\n      \"column\": \"total_score\",\n      \"properties\": {\n        \"dtype\": \"number\",\n        \"std\": 6.898043200792525,\n        \"min\": 83.9,\n        \"max\": 100.0,\n        \"num_unique_values\": 4,\n        \"samples\": [\n          83.9,\n          92.0,\n          97.9\n        ],\n        \"semantic_type\": \"\",\n        \"description\": \"\"\n      }\n    },\n    {\n      \"column\": \"grade\",\n      \"properties\": {\n        \"dtype\": \"category\",\n        \"num_unique_values\": 2,\n        \"samples\": [\n          \"B\",\n          \"A\"\n        ],\n        \"semantic_type\": \"\",\n        \"description\": \"\"\n      }\n    }\n  ]\n}"
            }
          },
          "metadata": {},
          "execution_count": 7
        }
      ],
      "source": [
        "# Вывод первых 5 строк\n",
        "df.head()\n",
        "\n",
        "# вывод 5 последних строк\n",
        "#df.tail()"
      ]
    },
    {
      "cell_type": "code",
      "execution_count": 8,
      "metadata": {
        "colab": {
          "base_uri": "https://localhost:8080/"
        },
        "id": "FXF-l0y1AXNU",
        "outputId": "f454731e-e7d7-4d9e-dc58-11a4c47240a6"
      },
      "outputs": [
        {
          "output_type": "stream",
          "name": "stdout",
          "text": [
            "<class 'pandas.core.frame.DataFrame'>\n",
            "RangeIndex: 786906 entries, 0 to 786905\n",
            "Data columns (total 6 columns):\n",
            " #   Column                   Non-Null Count   Dtype  \n",
            "---  ------                   --------------   -----  \n",
            " 0   student_id               786906 non-null  int64  \n",
            " 1   weekly_self_study_hours  786905 non-null  float64\n",
            " 2   attendance_percentage    786905 non-null  float64\n",
            " 3   class_participation      786905 non-null  float64\n",
            " 4   total_score              786905 non-null  float64\n",
            " 5   grade                    786905 non-null  object \n",
            "dtypes: float64(4), int64(1), object(1)\n",
            "memory usage: 36.0+ MB\n"
          ]
        }
      ],
      "source": [
        "# Информация о наборе данных\n",
        "df.info() # инфо о датасете название колонки, сколько не пропущенных, дефолтный тип данных"
      ]
    },
    {
      "cell_type": "code",
      "execution_count": 9,
      "metadata": {
        "colab": {
          "base_uri": "https://localhost:8080/",
          "height": 300
        },
        "id": "1eP4wqv1_tqN",
        "outputId": "e754e4eb-8442-4900-d14b-1eb52824a99f"
      },
      "outputs": [
        {
          "output_type": "execute_result",
          "data": {
            "text/plain": [
              "          student_id  weekly_self_study_hours  attendance_percentage  \\\n",
              "count  786906.000000            786905.000000          786905.000000   \n",
              "mean   393453.500000                15.037937              84.707438   \n",
              "std    227160.339802                 6.899888               9.423900   \n",
              "min         1.000000                 0.000000              50.000000   \n",
              "25%    196727.250000                10.300000              78.300000   \n",
              "50%    393453.500000                15.000000              85.000000   \n",
              "75%    590179.750000                19.700000              91.700000   \n",
              "max    786906.000000                40.000000             100.000000   \n",
              "\n",
              "       class_participation    total_score  \n",
              "count        786905.000000  786905.000000  \n",
              "mean              5.983819      84.293913  \n",
              "std               1.956579      15.428288  \n",
              "min               0.000000       9.400000  \n",
              "25%               4.700000      73.900000  \n",
              "50%               6.000000      87.500000  \n",
              "75%               7.300000     100.000000  \n",
              "max              10.000000     100.000000  "
            ],
            "text/html": [
              "\n",
              "  <div id=\"df-a647b457-9860-49da-a940-2323a9232d92\" class=\"colab-df-container\">\n",
              "    <div>\n",
              "<style scoped>\n",
              "    .dataframe tbody tr th:only-of-type {\n",
              "        vertical-align: middle;\n",
              "    }\n",
              "\n",
              "    .dataframe tbody tr th {\n",
              "        vertical-align: top;\n",
              "    }\n",
              "\n",
              "    .dataframe thead th {\n",
              "        text-align: right;\n",
              "    }\n",
              "</style>\n",
              "<table border=\"1\" class=\"dataframe\">\n",
              "  <thead>\n",
              "    <tr style=\"text-align: right;\">\n",
              "      <th></th>\n",
              "      <th>student_id</th>\n",
              "      <th>weekly_self_study_hours</th>\n",
              "      <th>attendance_percentage</th>\n",
              "      <th>class_participation</th>\n",
              "      <th>total_score</th>\n",
              "    </tr>\n",
              "  </thead>\n",
              "  <tbody>\n",
              "    <tr>\n",
              "      <th>count</th>\n",
              "      <td>786906.000000</td>\n",
              "      <td>786905.000000</td>\n",
              "      <td>786905.000000</td>\n",
              "      <td>786905.000000</td>\n",
              "      <td>786905.000000</td>\n",
              "    </tr>\n",
              "    <tr>\n",
              "      <th>mean</th>\n",
              "      <td>393453.500000</td>\n",
              "      <td>15.037937</td>\n",
              "      <td>84.707438</td>\n",
              "      <td>5.983819</td>\n",
              "      <td>84.293913</td>\n",
              "    </tr>\n",
              "    <tr>\n",
              "      <th>std</th>\n",
              "      <td>227160.339802</td>\n",
              "      <td>6.899888</td>\n",
              "      <td>9.423900</td>\n",
              "      <td>1.956579</td>\n",
              "      <td>15.428288</td>\n",
              "    </tr>\n",
              "    <tr>\n",
              "      <th>min</th>\n",
              "      <td>1.000000</td>\n",
              "      <td>0.000000</td>\n",
              "      <td>50.000000</td>\n",
              "      <td>0.000000</td>\n",
              "      <td>9.400000</td>\n",
              "    </tr>\n",
              "    <tr>\n",
              "      <th>25%</th>\n",
              "      <td>196727.250000</td>\n",
              "      <td>10.300000</td>\n",
              "      <td>78.300000</td>\n",
              "      <td>4.700000</td>\n",
              "      <td>73.900000</td>\n",
              "    </tr>\n",
              "    <tr>\n",
              "      <th>50%</th>\n",
              "      <td>393453.500000</td>\n",
              "      <td>15.000000</td>\n",
              "      <td>85.000000</td>\n",
              "      <td>6.000000</td>\n",
              "      <td>87.500000</td>\n",
              "    </tr>\n",
              "    <tr>\n",
              "      <th>75%</th>\n",
              "      <td>590179.750000</td>\n",
              "      <td>19.700000</td>\n",
              "      <td>91.700000</td>\n",
              "      <td>7.300000</td>\n",
              "      <td>100.000000</td>\n",
              "    </tr>\n",
              "    <tr>\n",
              "      <th>max</th>\n",
              "      <td>786906.000000</td>\n",
              "      <td>40.000000</td>\n",
              "      <td>100.000000</td>\n",
              "      <td>10.000000</td>\n",
              "      <td>100.000000</td>\n",
              "    </tr>\n",
              "  </tbody>\n",
              "</table>\n",
              "</div>\n",
              "    <div class=\"colab-df-buttons\">\n",
              "\n",
              "  <div class=\"colab-df-container\">\n",
              "    <button class=\"colab-df-convert\" onclick=\"convertToInteractive('df-a647b457-9860-49da-a940-2323a9232d92')\"\n",
              "            title=\"Convert this dataframe to an interactive table.\"\n",
              "            style=\"display:none;\">\n",
              "\n",
              "  <svg xmlns=\"http://www.w3.org/2000/svg\" height=\"24px\" viewBox=\"0 -960 960 960\">\n",
              "    <path d=\"M120-120v-720h720v720H120Zm60-500h600v-160H180v160Zm220 220h160v-160H400v160Zm0 220h160v-160H400v160ZM180-400h160v-160H180v160Zm440 0h160v-160H620v160ZM180-180h160v-160H180v160Zm440 0h160v-160H620v160Z\"/>\n",
              "  </svg>\n",
              "    </button>\n",
              "\n",
              "  <style>\n",
              "    .colab-df-container {\n",
              "      display:flex;\n",
              "      gap: 12px;\n",
              "    }\n",
              "\n",
              "    .colab-df-convert {\n",
              "      background-color: #E8F0FE;\n",
              "      border: none;\n",
              "      border-radius: 50%;\n",
              "      cursor: pointer;\n",
              "      display: none;\n",
              "      fill: #1967D2;\n",
              "      height: 32px;\n",
              "      padding: 0 0 0 0;\n",
              "      width: 32px;\n",
              "    }\n",
              "\n",
              "    .colab-df-convert:hover {\n",
              "      background-color: #E2EBFA;\n",
              "      box-shadow: 0px 1px 2px rgba(60, 64, 67, 0.3), 0px 1px 3px 1px rgba(60, 64, 67, 0.15);\n",
              "      fill: #174EA6;\n",
              "    }\n",
              "\n",
              "    .colab-df-buttons div {\n",
              "      margin-bottom: 4px;\n",
              "    }\n",
              "\n",
              "    [theme=dark] .colab-df-convert {\n",
              "      background-color: #3B4455;\n",
              "      fill: #D2E3FC;\n",
              "    }\n",
              "\n",
              "    [theme=dark] .colab-df-convert:hover {\n",
              "      background-color: #434B5C;\n",
              "      box-shadow: 0px 1px 3px 1px rgba(0, 0, 0, 0.15);\n",
              "      filter: drop-shadow(0px 1px 2px rgba(0, 0, 0, 0.3));\n",
              "      fill: #FFFFFF;\n",
              "    }\n",
              "  </style>\n",
              "\n",
              "    <script>\n",
              "      const buttonEl =\n",
              "        document.querySelector('#df-a647b457-9860-49da-a940-2323a9232d92 button.colab-df-convert');\n",
              "      buttonEl.style.display =\n",
              "        google.colab.kernel.accessAllowed ? 'block' : 'none';\n",
              "\n",
              "      async function convertToInteractive(key) {\n",
              "        const element = document.querySelector('#df-a647b457-9860-49da-a940-2323a9232d92');\n",
              "        const dataTable =\n",
              "          await google.colab.kernel.invokeFunction('convertToInteractive',\n",
              "                                                    [key], {});\n",
              "        if (!dataTable) return;\n",
              "\n",
              "        const docLinkHtml = 'Like what you see? Visit the ' +\n",
              "          '<a target=\"_blank\" href=https://colab.research.google.com/notebooks/data_table.ipynb>data table notebook</a>'\n",
              "          + ' to learn more about interactive tables.';\n",
              "        element.innerHTML = '';\n",
              "        dataTable['output_type'] = 'display_data';\n",
              "        await google.colab.output.renderOutput(dataTable, element);\n",
              "        const docLink = document.createElement('div');\n",
              "        docLink.innerHTML = docLinkHtml;\n",
              "        element.appendChild(docLink);\n",
              "      }\n",
              "    </script>\n",
              "  </div>\n",
              "\n",
              "\n",
              "    <div id=\"df-cfcbaa68-4b7f-4964-b97d-52ac7232b1d3\">\n",
              "      <button class=\"colab-df-quickchart\" onclick=\"quickchart('df-cfcbaa68-4b7f-4964-b97d-52ac7232b1d3')\"\n",
              "                title=\"Suggest charts\"\n",
              "                style=\"display:none;\">\n",
              "\n",
              "<svg xmlns=\"http://www.w3.org/2000/svg\" height=\"24px\"viewBox=\"0 0 24 24\"\n",
              "     width=\"24px\">\n",
              "    <g>\n",
              "        <path d=\"M19 3H5c-1.1 0-2 .9-2 2v14c0 1.1.9 2 2 2h14c1.1 0 2-.9 2-2V5c0-1.1-.9-2-2-2zM9 17H7v-7h2v7zm4 0h-2V7h2v10zm4 0h-2v-4h2v4z\"/>\n",
              "    </g>\n",
              "</svg>\n",
              "      </button>\n",
              "\n",
              "<style>\n",
              "  .colab-df-quickchart {\n",
              "      --bg-color: #E8F0FE;\n",
              "      --fill-color: #1967D2;\n",
              "      --hover-bg-color: #E2EBFA;\n",
              "      --hover-fill-color: #174EA6;\n",
              "      --disabled-fill-color: #AAA;\n",
              "      --disabled-bg-color: #DDD;\n",
              "  }\n",
              "\n",
              "  [theme=dark] .colab-df-quickchart {\n",
              "      --bg-color: #3B4455;\n",
              "      --fill-color: #D2E3FC;\n",
              "      --hover-bg-color: #434B5C;\n",
              "      --hover-fill-color: #FFFFFF;\n",
              "      --disabled-bg-color: #3B4455;\n",
              "      --disabled-fill-color: #666;\n",
              "  }\n",
              "\n",
              "  .colab-df-quickchart {\n",
              "    background-color: var(--bg-color);\n",
              "    border: none;\n",
              "    border-radius: 50%;\n",
              "    cursor: pointer;\n",
              "    display: none;\n",
              "    fill: var(--fill-color);\n",
              "    height: 32px;\n",
              "    padding: 0;\n",
              "    width: 32px;\n",
              "  }\n",
              "\n",
              "  .colab-df-quickchart:hover {\n",
              "    background-color: var(--hover-bg-color);\n",
              "    box-shadow: 0 1px 2px rgba(60, 64, 67, 0.3), 0 1px 3px 1px rgba(60, 64, 67, 0.15);\n",
              "    fill: var(--button-hover-fill-color);\n",
              "  }\n",
              "\n",
              "  .colab-df-quickchart-complete:disabled,\n",
              "  .colab-df-quickchart-complete:disabled:hover {\n",
              "    background-color: var(--disabled-bg-color);\n",
              "    fill: var(--disabled-fill-color);\n",
              "    box-shadow: none;\n",
              "  }\n",
              "\n",
              "  .colab-df-spinner {\n",
              "    border: 2px solid var(--fill-color);\n",
              "    border-color: transparent;\n",
              "    border-bottom-color: var(--fill-color);\n",
              "    animation:\n",
              "      spin 1s steps(1) infinite;\n",
              "  }\n",
              "\n",
              "  @keyframes spin {\n",
              "    0% {\n",
              "      border-color: transparent;\n",
              "      border-bottom-color: var(--fill-color);\n",
              "      border-left-color: var(--fill-color);\n",
              "    }\n",
              "    20% {\n",
              "      border-color: transparent;\n",
              "      border-left-color: var(--fill-color);\n",
              "      border-top-color: var(--fill-color);\n",
              "    }\n",
              "    30% {\n",
              "      border-color: transparent;\n",
              "      border-left-color: var(--fill-color);\n",
              "      border-top-color: var(--fill-color);\n",
              "      border-right-color: var(--fill-color);\n",
              "    }\n",
              "    40% {\n",
              "      border-color: transparent;\n",
              "      border-right-color: var(--fill-color);\n",
              "      border-top-color: var(--fill-color);\n",
              "    }\n",
              "    60% {\n",
              "      border-color: transparent;\n",
              "      border-right-color: var(--fill-color);\n",
              "    }\n",
              "    80% {\n",
              "      border-color: transparent;\n",
              "      border-right-color: var(--fill-color);\n",
              "      border-bottom-color: var(--fill-color);\n",
              "    }\n",
              "    90% {\n",
              "      border-color: transparent;\n",
              "      border-bottom-color: var(--fill-color);\n",
              "    }\n",
              "  }\n",
              "</style>\n",
              "\n",
              "      <script>\n",
              "        async function quickchart(key) {\n",
              "          const quickchartButtonEl =\n",
              "            document.querySelector('#' + key + ' button');\n",
              "          quickchartButtonEl.disabled = true;  // To prevent multiple clicks.\n",
              "          quickchartButtonEl.classList.add('colab-df-spinner');\n",
              "          try {\n",
              "            const charts = await google.colab.kernel.invokeFunction(\n",
              "                'suggestCharts', [key], {});\n",
              "          } catch (error) {\n",
              "            console.error('Error during call to suggestCharts:', error);\n",
              "          }\n",
              "          quickchartButtonEl.classList.remove('colab-df-spinner');\n",
              "          quickchartButtonEl.classList.add('colab-df-quickchart-complete');\n",
              "        }\n",
              "        (() => {\n",
              "          let quickchartButtonEl =\n",
              "            document.querySelector('#df-cfcbaa68-4b7f-4964-b97d-52ac7232b1d3 button');\n",
              "          quickchartButtonEl.style.display =\n",
              "            google.colab.kernel.accessAllowed ? 'block' : 'none';\n",
              "        })();\n",
              "      </script>\n",
              "    </div>\n",
              "    </div>\n",
              "  </div>\n"
            ],
            "application/vnd.google.colaboratory.intrinsic+json": {
              "type": "dataframe",
              "summary": "{\n  \"name\": \"df\",\n  \"rows\": 8,\n  \"fields\": [\n    {\n      \"column\": \"student_id\",\n      \"properties\": {\n        \"dtype\": \"number\",\n        \"std\": 283604.42485165637,\n        \"min\": 1.0,\n        \"max\": 786906.0,\n        \"num_unique_values\": 6,\n        \"samples\": [\n          786906.0,\n          393453.5,\n          590179.75\n        ],\n        \"semantic_type\": \"\",\n        \"description\": \"\"\n      }\n    },\n    {\n      \"column\": \"weekly_self_study_hours\",\n      \"properties\": {\n        \"dtype\": \"number\",\n        \"std\": 278207.5298952874,\n        \"min\": 0.0,\n        \"max\": 786905.0,\n        \"num_unique_values\": 8,\n        \"samples\": [\n          15.037937108037179,\n          15.0,\n          786905.0\n        ],\n        \"semantic_type\": \"\",\n        \"description\": \"\"\n      }\n    },\n    {\n      \"column\": \"attendance_percentage\",\n      \"properties\": {\n        \"dtype\": \"number\",\n        \"std\": 278187.72241006576,\n        \"min\": 9.423899731524816,\n        \"max\": 786905.0,\n        \"num_unique_values\": 8,\n        \"samples\": [\n          84.70743838201564,\n          85.0,\n          786905.0\n        ],\n        \"semantic_type\": \"\",\n        \"description\": \"\"\n      }\n    },\n    {\n      \"column\": \"class_participation\",\n      \"properties\": {\n        \"dtype\": \"number\",\n        \"std\": 278211.1155776273,\n        \"min\": 0.0,\n        \"max\": 786905.0,\n        \"num_unique_values\": 8,\n        \"samples\": [\n          5.983819139540349,\n          6.0,\n          786905.0\n        ],\n        \"semantic_type\": \"\",\n        \"description\": \"\"\n      }\n    },\n    {\n      \"column\": \"total_score\",\n      \"properties\": {\n        \"dtype\": \"number\",\n        \"std\": 278189.1681557216,\n        \"min\": 9.4,\n        \"max\": 786905.0,\n        \"num_unique_values\": 7,\n        \"samples\": [\n          786905.0,\n          84.29391298822603,\n          87.5\n        ],\n        \"semantic_type\": \"\",\n        \"description\": \"\"\n      }\n    }\n  ]\n}"
            }
          },
          "metadata": {},
          "execution_count": 9
        }
      ],
      "source": [
        "# Статистический разбор\n",
        "df.describe() # include=all (вывод включая категориальные)"
      ]
    },
    {
      "cell_type": "code",
      "source": [
        "# преобразование в категориальные\n",
        "# df.columnName = df.columnName.astype('category')\n",
        "# or\n",
        "# df['column Name'] = df['column Name'].astype('category')"
      ],
      "metadata": {
        "id": "YH4Kvd22qoVB"
      },
      "execution_count": null,
      "outputs": []
    },
    {
      "cell_type": "code",
      "execution_count": 10,
      "metadata": {
        "colab": {
          "base_uri": "https://localhost:8080/"
        },
        "id": "157IXtxKAjbv",
        "outputId": "af2062a0-f35e-4115-c175-7b288fa672d0"
      },
      "outputs": [
        {
          "output_type": "execute_result",
          "data": {
            "text/plain": [
              "Index(['student_id', 'weekly_self_study_hours', 'attendance_percentage',\n",
              "       'class_participation', 'total_score', 'grade'],\n",
              "      dtype='object')"
            ]
          },
          "metadata": {},
          "execution_count": 10
        }
      ],
      "source": [
        "# Вывод колонок в наборе данных\n",
        "df.columns"
      ]
    },
    {
      "cell_type": "markdown",
      "metadata": {
        "id": "tm8i1hZ4A5lu"
      },
      "source": [
        "## Определение типов переменных"
      ]
    },
    {
      "cell_type": "code",
      "execution_count": 11,
      "metadata": {
        "colab": {
          "base_uri": "https://localhost:8080/"
        },
        "id": "OOIfnW3OAbZ-",
        "outputId": "05741cda-31bd-4ffa-f826-3dc76d21f167"
      },
      "outputs": [
        {
          "output_type": "stream",
          "name": "stdout",
          "text": [
            "student_id                   int64\n",
            "weekly_self_study_hours    float64\n",
            "attendance_percentage      float64\n",
            "class_participation        float64\n",
            "total_score                float64\n",
            "grade                       object\n",
            "dtype: object\n"
          ]
        }
      ],
      "source": [
        "# Список столбцов и их типов данных\n",
        "print(df.dtypes)"
      ]
    },
    {
      "cell_type": "markdown",
      "metadata": {
        "id": "D6K8rKQkBBTx"
      },
      "source": [
        "- Числовые переменные обычно имеют тип int64 или float64.\n",
        "- Категориальные переменные могут иметь тип object или int (например метки класса)"
      ]
    },
    {
      "cell_type": "markdown",
      "metadata": {
        "id": "eiFQUgHECLP_"
      },
      "source": [
        "## Статистический разбор данных"
      ]
    },
    {
      "cell_type": "markdown",
      "metadata": {
        "id": "MbYwHh_gCseY"
      },
      "source": [
        "1. **Посчитайте количество уникальных значений для каждой переменной:**"
      ]
    },
    {
      "cell_type": "code",
      "execution_count": 12,
      "metadata": {
        "colab": {
          "base_uri": "https://localhost:8080/"
        },
        "id": "U7YqAEKUBmhf",
        "outputId": "70438d73-2582-4b7e-f04f-49ce4217350f"
      },
      "outputs": [
        {
          "output_type": "stream",
          "name": "stdout",
          "text": [
            "student_id: 786906 уникальных значений\n",
            "weekly_self_study_hours: 401 уникальных значений\n",
            "attendance_percentage: 501 уникальных значений\n",
            "class_participation: 101 уникальных значений\n",
            "total_score: 819 уникальных значений\n",
            "grade: 5 уникальных значений\n"
          ]
        }
      ],
      "source": [
        "# Количество уникальных значений\n",
        "for column in df.columns:\n",
        "    print(f'{column}: {df[column].nunique()} уникальных значений')"
      ]
    },
    {
      "cell_type": "markdown",
      "metadata": {
        "id": "qxTEAKDYCvkX"
      },
      "source": [
        "**⏰ задача**\n",
        "\n",
        "Определить типы переменных\n",
        "- номинальные переменные (не имеют порядка и сравнения)\n",
        "- порядковые пиеременные (имеют порядок, но не имеют смысла мат операции)\n",
        "- числовые непрерывные переменные (имеют порядок, есть смысл мат операций)\n",
        "\n",
        "Вывести статистику для числовых и для категоиральных перменных раздельно.\n",
        "\n",
        "p.s. если существует несколько гипотез к какому типу относительно одна и та же переменной - объяснить почему\n",
        "\n",
        "\n",
        "### **Решение**\n",
        "student_id - номинальные переменные, так как это перечисление, а значит что значения задаются уникальные и нет смысла от мат операций\n",
        "\n",
        "weekly_self_study_hour - числовые переменные, так как это количество часов в неделю у которых есть 401 уникальное значение, также имеет смысл проводить мат операции\n",
        "\n",
        "attendance_percentage - числовые переменные, так как это посещаемость в процентах у которых 501 уникальное значение имеющее порядок, также имеет смысл проводить мат операции\n",
        "\n",
        "class_praticipation -  порядковые переменные, так как это разделение классов у которых 101 уникальных значений, не имеет смысла в мат операциях\n",
        "\n",
        "total_score - числовые переменные, так как это общий счет к уоторого 824 уникальных чисел имеющих порядок и смысл проводить мат операции\n",
        "\n",
        "grade - порядковые числа, так как это оценка, у которой 5 уникальных значений имеющий порядок удовлетворенностью работой, мат операции не имеют смысла"
      ]
    },
    {
      "cell_type": "code",
      "source": [
        "chisl = ['weekly_self_study_hours', 'attendance_percentage', 'total_score']\n",
        "kategor = ['student_id', 'class_participation', 'grade']\n",
        "\n",
        "\n",
        "print(df[chisl].describe(), \"\\n\\n\\n\")\n",
        "\n",
        "print(df[kategor].astype('category').describe(include='all'))\n"
      ],
      "metadata": {
        "colab": {
          "base_uri": "https://localhost:8080/"
        },
        "id": "DP4TP7Iesho6",
        "outputId": "5499c309-947d-4aac-87ec-cdaf4796293f"
      },
      "execution_count": 13,
      "outputs": [
        {
          "output_type": "stream",
          "name": "stdout",
          "text": [
            "       weekly_self_study_hours  attendance_percentage    total_score\n",
            "count            786905.000000          786905.000000  786905.000000\n",
            "mean                 15.037937              84.707438      84.293913\n",
            "std                   6.899888               9.423900      15.428288\n",
            "min                   0.000000              50.000000       9.400000\n",
            "25%                  10.300000              78.300000      73.900000\n",
            "50%                  15.000000              85.000000      87.500000\n",
            "75%                  19.700000              91.700000     100.000000\n",
            "max                  40.000000             100.000000     100.000000 \n",
            "\n",
            "\n",
            "\n",
            "        student_id  class_participation   grade\n",
            "count       786906             786905.0  786905\n",
            "unique      786906                101.0       5\n",
            "top         786906                 10.0       A\n",
            "freq             1              18950.0  431755\n"
          ]
        }
      ]
    },
    {
      "cell_type": "markdown",
      "metadata": {
        "id": "YmWlNDdjDh7G"
      },
      "source": [
        "## **4. Визуализация распределения переменных**\n",
        "\n",
        "### **Описание:**\n",
        "Создайте визуализации для понимания распределения числовых и категориальных переменных.\n",
        "\n",
        "### **Шаги:**\n"
      ]
    },
    {
      "cell_type": "markdown",
      "metadata": {
        "id": "7U-U04OFDlLr"
      },
      "source": [
        "1. **Гистограмма для числовых переменных:**"
      ]
    },
    {
      "cell_type": "code",
      "source": [
        "#ниже код для оптимизации вывода всех числовых переменных\n",
        "#num_cols = df.select_dtypes(include='float').columns # если есть int чиловая переменная либо + ['col1', 'col2'], либо такие колонки преобразовать во flaot\n",
        "fig, axes = plt.subplots(1, len(chisl), figsize=(6 * len(chisl), 4))\n",
        "\n",
        "for ax, col in zip(axes, chisl):\n",
        "    sns.histplot(df[col], kde=True, ax=ax)\n",
        "    ax.set_title(f'Распределение {col}')\n",
        "    ax.set_xlabel(col)\n",
        "    ax.set_ylabel('Частота')\n",
        "\n",
        "plt.tight_layout()\n",
        "plt.show()"
      ],
      "metadata": {
        "id": "CQAagJEasWbf",
        "colab": {
          "base_uri": "https://localhost:8080/",
          "height": 308
        },
        "outputId": "cd049a71-7dc0-4727-d3a4-d03762c649ec"
      },
      "execution_count": 14,
      "outputs": [
        {
          "output_type": "display_data",
          "data": {
            "text/plain": [
              "<Figure size 1800x400 with 3 Axes>"
            ],
            "image/png": "[encoded data removed]"
          },
          "metadata": {}
        }
      ]
    },
    {
      "cell_type": "markdown",
      "source": [
        "**задача ⏰**\n",
        "\n",
        "Описать вывод графиков.\n",
        "- Является ли распределение нормальным или отлично от него?\n",
        "- Концентрация большинства значений\n",
        "- если есть категориальная переменная, то с помощью параметры hue попробовать предсказать значение категориальный переменной (пример с диоксидом серы и типом вина)\n",
        "\n",
        "p.s. 3-5 самых показательных примеров.\n",
        "\n",
        "**Решение**\n",
        "1. Распределение не является нормальным, но почти им является; Большинство значений сконцентрированно на 15 часах;\n",
        "2. Распределение не является нормальным; Большинство значений сконцентрированно на 85 процентах;\n",
        "3. Распределение не является нормальным, но почти им является; Большинство значений сконцентрированно от 82 по 95 балл;"
      ],
      "metadata": {
        "id": "DjVTyCA2sdQL"
      }
    },
    {
      "cell_type": "markdown",
      "metadata": {
        "id": "xl44MN9qDnv9"
      },
      "source": [
        "2. **Столбчатая диаграмма для категориальной переменной `Class`:**"
      ]
    },
    {
      "cell_type": "code",
      "source": [
        "kategor = ['class_participation', 'grade']\n",
        "fig, axes = plt.subplots(1, len(kategor), figsize=(6 * len(kategor), 4))\n",
        "\n",
        "for ax, col in zip(axes, kategor):\n",
        "    sns.histplot(df[col], kde=True, ax=ax)\n",
        "    ax.set_title(f'Распределение {col}')\n",
        "    ax.set_xlabel(col)\n",
        "    ax.set_ylabel('Частота')\n",
        "\n",
        "\n",
        "\n",
        "plt.figure(figsize=(12, 6))\n",
        "sns.countplot(data=df, x='class_participation', hue='grade')\n",
        "plt.title('Влияние активности класса на оценку')\n",
        "plt.xlabel('активность класса')\n",
        "plt.ylabel('Количество студентов')\n",
        "plt.legend(title='Оценка')\n",
        "plt.xticks(rotation=90)\n",
        "\n",
        "\n",
        "\n",
        "plt.tight_layout()\n",
        "plt.show()\n"
      ],
      "metadata": {
        "id": "ki8iImtfs7Qh",
        "colab": {
          "base_uri": "https://localhost:8080/",
          "height": 1000
        },
        "outputId": "406f7574-98e6-417d-9c93-348624a47843"
      },
      "execution_count": 20,
      "outputs": [
        {
          "output_type": "display_data",
          "data": {
            "text/plain": [
              "<Figure size 1200x400 with 2 Axes>"
            ],
            "image/png": "[encoded data removed]"
          },
          "metadata": {}
        },
        {
          "output_type": "display_data",
          "data": {
            "text/plain": [
              "<Figure size 1200x600 with 1 Axes>"
            ],
            "image/png": "[encoded data removed]"
          },
          "metadata": {}
        }
      ]
    },
    {
      "cell_type": "markdown",
      "source": [
        "**задача ⏰**\n",
        "\n",
        "Описать вывод графиков.\n",
        "- в каких значениях концентрируентся переменная?\n",
        "- если есть категориальная переменная, то с помощью параметры hue попробовать предсказать значение категориальный переменной (пример с диоксидом серы и типом вина)\n",
        "\n",
        "**Решение**\n",
        "\n",
        "class_participation - концентрируется в значениях близких к 6.\n",
        "\n",
        "grade - значения концентрируются в значении A.\n",
        "\n",
        "минимальным значением  графика параметров hue является 0.1, максимальное значение достигается на значении 5.8, а резкий рост оценок начинается 1.9 и продолжается до 5.4."
      ],
      "metadata": {
        "id": "UO2Q-AnOs_CH"
      }
    },
    {
      "cell_type": "markdown",
      "metadata": {
        "id": "A_u0EaAxDpdY"
      },
      "source": [
        "**Боксплот для числовой переменной:**"
      ]
    },
    {
      "cell_type": "code",
      "source": [
        "fig, axes = plt.subplots(1, len(chisl), figsize=(6 * len(chisl), 4))\n",
        "\n",
        "for ax, col in zip(axes, chisl):\n",
        "   sns.boxplot(df[col], ax=ax)\n",
        "   ax.set_title(f'Распределение {col}')\n",
        "   ax.set_xlabel(col)\n",
        "   ax.set_ylabel('Частота')\n",
        "\n",
        "plt.tight_layout()\n",
        "plt.show()"
      ],
      "metadata": {
        "id": "0lgdjVP2tNw1",
        "colab": {
          "base_uri": "https://localhost:8080/",
          "height": 308
        },
        "outputId": "e6252002-c8c1-4e4f-fb4c-3c2c1701d39b"
      },
      "execution_count": 23,
      "outputs": [
        {
          "output_type": "display_data",
          "data": {
            "text/plain": [
              "<Figure size 1800x400 with 3 Axes>"
            ],
            "image/png": "[encoded data removed]"
          },
          "metadata": {}
        }
      ]
    },
    {
      "cell_type": "markdown",
      "source": [
        "**задача ⏰**\n",
        "\n",
        "Описать вывод графиков.\n",
        "- Есть ли выбросы?\n",
        "- если есть категориальная переменная, то с помощью параметры hue попробовать предсказать значение категориальный переменной (пример с диоксидом серы и типом вина). Определить различия по медиане\n",
        "\n",
        "**Решение**\n",
        "\n",
        "weekly_self_study_hours - выбросы на частотах от 35 дло 40\n",
        "\n",
        "attendance_percentage - выбросы на частотах от 50 до 59\n",
        "\n",
        "total_score - выбросы на частотах с 0 до 37"
      ],
      "metadata": {
        "id": "l0HrP4IntQxi"
      }
    },
    {
      "cell_type": "markdown",
      "metadata": {
        "id": "f59wNH9vEBCj"
      },
      "source": [
        "**Постройте корреляционную матрицу для всех числовых переменных и визуализируйте её с помощью тепловой карты:**"
      ]
    },
    {
      "cell_type": "code",
      "source": [
        "# Корреляционная матрица\n",
        "correlation_matrix = df[chisl].corr()\n",
        "\n",
        "# Визуализация тепловой карты\n",
        "sns.heatmap(correlation_matrix, annot=True, cmap='coolwarm')\n",
        "plt.title('Корреляционная матрица')\n",
        "plt.show()"
      ],
      "metadata": {
        "id": "IRvG7wPiuY9e",
        "colab": {
          "base_uri": "https://localhost:8080/",
          "height": 610
        },
        "outputId": "50bacd73-e295-4c7a-e2fd-bcc266480ce8"
      },
      "execution_count": 25,
      "outputs": [
        {
          "output_type": "display_data",
          "data": {
            "text/plain": [
              "<Figure size 640x480 with 2 Axes>"
            ],
            "image/png": "[encoded data removed]"
          },
          "metadata": {}
        }
      ]
    },
    {
      "cell_type": "markdown",
      "source": [
        "**если ValueError**"
      ],
      "metadata": {
        "id": "EgFRs5TeuZ7u"
      }
    },
    {
      "cell_type": "code",
      "source": [
        "# Если будут ошибки ValueError из-за could not conver string to float\n",
        "df = df.drop('colName', axis=1)\n",
        "# найти колонку, из-за которой ничего не получается,\n",
        "# можно найти по object из df.info()"
      ],
      "metadata": {
        "id": "cu9VEvN0ucC5",
        "colab": {
          "base_uri": "https://localhost:8080/",
          "height": 339
        },
        "outputId": "b60adf69-f3d4-4459-9d80-255409dc4a44"
      },
      "execution_count": 26,
      "outputs": [
        {
          "output_type": "error",
          "ename": "KeyError",
          "evalue": "\"['colName'] not found in axis\"",
          "traceback": [
            "\u001b[0;31m---------------------------------------------------------------------------\u001b[0m",
            "\u001b[0;31mKeyError\u001b[0m                                  Traceback (most recent call last)",
            "\u001b[0;32m/tmp/ipython-input-2335370813.py\u001b[0m in \u001b[0;36m<cell line: 0>\u001b[0;34m()\u001b[0m\n\u001b[1;32m      1\u001b[0m \u001b[0;31m# Если будут ошибки ValueError из-за could not conver string to float\u001b[0m\u001b[0;34m\u001b[0m\u001b[0;34m\u001b[0m\u001b[0m\n\u001b[0;32m----> 2\u001b[0;31m \u001b[0mdf\u001b[0m \u001b[0;34m=\u001b[0m \u001b[0mdf\u001b[0m\u001b[0;34m.\u001b[0m\u001b[0mdrop\u001b[0m\u001b[0;34m(\u001b[0m\u001b[0;34m'colName'\u001b[0m\u001b[0;34m,\u001b[0m \u001b[0maxis\u001b[0m\u001b[0;34m=\u001b[0m\u001b[0;36m1\u001b[0m\u001b[0;34m)\u001b[0m\u001b[0;34m\u001b[0m\u001b[0;34m\u001b[0m\u001b[0m\n\u001b[0m\u001b[1;32m      3\u001b[0m \u001b[0;31m# найти колонку, из-за которой ничего не получается,\u001b[0m\u001b[0;34m\u001b[0m\u001b[0;34m\u001b[0m\u001b[0m\n\u001b[1;32m      4\u001b[0m \u001b[0;31m# можно найти по object из df.info()\u001b[0m\u001b[0;34m\u001b[0m\u001b[0;34m\u001b[0m\u001b[0m\n",
            "\u001b[0;32m/usr/local/lib/python3.12/dist-packages/pandas/core/frame.py\u001b[0m in \u001b[0;36mdrop\u001b[0;34m(self, labels, axis, index, columns, level, inplace, errors)\u001b[0m\n\u001b[1;32m   5579\u001b[0m                 \u001b[0mweight\u001b[0m  \u001b[0;36m1.0\u001b[0m     \u001b[0;36m0.8\u001b[0m\u001b[0;34m\u001b[0m\u001b[0;34m\u001b[0m\u001b[0m\n\u001b[1;32m   5580\u001b[0m         \"\"\"\n\u001b[0;32m-> 5581\u001b[0;31m         return super().drop(\n\u001b[0m\u001b[1;32m   5582\u001b[0m             \u001b[0mlabels\u001b[0m\u001b[0;34m=\u001b[0m\u001b[0mlabels\u001b[0m\u001b[0;34m,\u001b[0m\u001b[0;34m\u001b[0m\u001b[0;34m\u001b[0m\u001b[0m\n\u001b[1;32m   5583\u001b[0m             \u001b[0maxis\u001b[0m\u001b[0;34m=\u001b[0m\u001b[0maxis\u001b[0m\u001b[0;34m,\u001b[0m\u001b[0;34m\u001b[0m\u001b[0;34m\u001b[0m\u001b[0m\n",
            "\u001b[0;32m/usr/local/lib/python3.12/dist-packages/pandas/core/generic.py\u001b[0m in \u001b[0;36mdrop\u001b[0;34m(self, labels, axis, index, columns, level, inplace, errors)\u001b[0m\n\u001b[1;32m   4786\u001b[0m         \u001b[0;32mfor\u001b[0m \u001b[0maxis\u001b[0m\u001b[0;34m,\u001b[0m \u001b[0mlabels\u001b[0m \u001b[0;32min\u001b[0m \u001b[0maxes\u001b[0m\u001b[0;34m.\u001b[0m\u001b[0mitems\u001b[0m\u001b[0;34m(\u001b[0m\u001b[0;34m)\u001b[0m\u001b[0;34m:\u001b[0m\u001b[0;34m\u001b[0m\u001b[0;34m\u001b[0m\u001b[0m\n\u001b[1;32m   4787\u001b[0m             \u001b[0;32mif\u001b[0m \u001b[0mlabels\u001b[0m \u001b[0;32mis\u001b[0m \u001b[0;32mnot\u001b[0m \u001b[0;32mNone\u001b[0m\u001b[0;34m:\u001b[0m\u001b[0;34m\u001b[0m\u001b[0;34m\u001b[0m\u001b[0m\n\u001b[0;32m-> 4788\u001b[0;31m                 \u001b[0mobj\u001b[0m \u001b[0;34m=\u001b[0m \u001b[0mobj\u001b[0m\u001b[0;34m.\u001b[0m\u001b[0m_drop_axis\u001b[0m\u001b[0;34m(\u001b[0m\u001b[0mlabels\u001b[0m\u001b[0;34m,\u001b[0m \u001b[0maxis\u001b[0m\u001b[0;34m,\u001b[0m \u001b[0mlevel\u001b[0m\u001b[0;34m=\u001b[0m\u001b[0mlevel\u001b[0m\u001b[0;34m,\u001b[0m \u001b[0merrors\u001b[0m\u001b[0;34m=\u001b[0m\u001b[0merrors\u001b[0m\u001b[0;34m)\u001b[0m\u001b[0;34m\u001b[0m\u001b[0;34m\u001b[0m\u001b[0m\n\u001b[0m\u001b[1;32m   4789\u001b[0m \u001b[0;34m\u001b[0m\u001b[0m\n\u001b[1;32m   4790\u001b[0m         \u001b[0;32mif\u001b[0m \u001b[0minplace\u001b[0m\u001b[0;34m:\u001b[0m\u001b[0;34m\u001b[0m\u001b[0;34m\u001b[0m\u001b[0m\n",
            "\u001b[0;32m/usr/local/lib/python3.12/dist-packages/pandas/core/generic.py\u001b[0m in \u001b[0;36m_drop_axis\u001b[0;34m(self, labels, axis, level, errors, only_slice)\u001b[0m\n\u001b[1;32m   4828\u001b[0m                 \u001b[0mnew_axis\u001b[0m \u001b[0;34m=\u001b[0m \u001b[0maxis\u001b[0m\u001b[0;34m.\u001b[0m\u001b[0mdrop\u001b[0m\u001b[0;34m(\u001b[0m\u001b[0mlabels\u001b[0m\u001b[0;34m,\u001b[0m \u001b[0mlevel\u001b[0m\u001b[0;34m=\u001b[0m\u001b[0mlevel\u001b[0m\u001b[0;34m,\u001b[0m \u001b[0merrors\u001b[0m\u001b[0;34m=\u001b[0m\u001b[0merrors\u001b[0m\u001b[0;34m)\u001b[0m\u001b[0;34m\u001b[0m\u001b[0;34m\u001b[0m\u001b[0m\n\u001b[1;32m   4829\u001b[0m             \u001b[0;32melse\u001b[0m\u001b[0;34m:\u001b[0m\u001b[0;34m\u001b[0m\u001b[0;34m\u001b[0m\u001b[0m\n\u001b[0;32m-> 4830\u001b[0;31m                 \u001b[0mnew_axis\u001b[0m \u001b[0;34m=\u001b[0m \u001b[0maxis\u001b[0m\u001b[0;34m.\u001b[0m\u001b[0mdrop\u001b[0m\u001b[0;34m(\u001b[0m\u001b[0mlabels\u001b[0m\u001b[0;34m,\u001b[0m \u001b[0merrors\u001b[0m\u001b[0;34m=\u001b[0m\u001b[0merrors\u001b[0m\u001b[0;34m)\u001b[0m\u001b[0;34m\u001b[0m\u001b[0;34m\u001b[0m\u001b[0m\n\u001b[0m\u001b[1;32m   4831\u001b[0m             \u001b[0mindexer\u001b[0m \u001b[0;34m=\u001b[0m \u001b[0maxis\u001b[0m\u001b[0;34m.\u001b[0m\u001b[0mget_indexer\u001b[0m\u001b[0;34m(\u001b[0m\u001b[0mnew_axis\u001b[0m\u001b[0;34m)\u001b[0m\u001b[0;34m\u001b[0m\u001b[0;34m\u001b[0m\u001b[0m\n\u001b[1;32m   4832\u001b[0m \u001b[0;34m\u001b[0m\u001b[0m\n",
            "\u001b[0;32m/usr/local/lib/python3.12/dist-packages/pandas/core/indexes/base.py\u001b[0m in \u001b[0;36mdrop\u001b[0;34m(self, labels, errors)\u001b[0m\n\u001b[1;32m   7068\u001b[0m         \u001b[0;32mif\u001b[0m \u001b[0mmask\u001b[0m\u001b[0;34m.\u001b[0m\u001b[0many\u001b[0m\u001b[0;34m(\u001b[0m\u001b[0;34m)\u001b[0m\u001b[0;34m:\u001b[0m\u001b[0;34m\u001b[0m\u001b[0;34m\u001b[0m\u001b[0m\n\u001b[1;32m   7069\u001b[0m             \u001b[0;32mif\u001b[0m \u001b[0merrors\u001b[0m \u001b[0;34m!=\u001b[0m \u001b[0;34m\"ignore\"\u001b[0m\u001b[0;34m:\u001b[0m\u001b[0;34m\u001b[0m\u001b[0;34m\u001b[0m\u001b[0m\n\u001b[0;32m-> 7070\u001b[0;31m                 \u001b[0;32mraise\u001b[0m \u001b[0mKeyError\u001b[0m\u001b[0;34m(\u001b[0m\u001b[0;34mf\"{labels[mask].tolist()} not found in axis\"\u001b[0m\u001b[0;34m)\u001b[0m\u001b[0;34m\u001b[0m\u001b[0;34m\u001b[0m\u001b[0m\n\u001b[0m\u001b[1;32m   7071\u001b[0m             \u001b[0mindexer\u001b[0m \u001b[0;34m=\u001b[0m \u001b[0mindexer\u001b[0m\u001b[0;34m[\u001b[0m\u001b[0;34m~\u001b[0m\u001b[0mmask\u001b[0m\u001b[0;34m]\u001b[0m\u001b[0;34m\u001b[0m\u001b[0;34m\u001b[0m\u001b[0m\n\u001b[1;32m   7072\u001b[0m         \u001b[0;32mreturn\u001b[0m \u001b[0mself\u001b[0m\u001b[0;34m.\u001b[0m\u001b[0mdelete\u001b[0m\u001b[0;34m(\u001b[0m\u001b[0mindexer\u001b[0m\u001b[0;34m)\u001b[0m\u001b[0;34m\u001b[0m\u001b[0;34m\u001b[0m\u001b[0m\n",
            "\u001b[0;31mKeyError\u001b[0m: \"['colName'] not found in axis\""
          ]
        }
      ]
    },
    {
      "cell_type": "markdown",
      "source": [
        "**задача ⏰**\n",
        "\n",
        "Интерпертировать полученный результат:\n",
        "- Какие переменные не коррелируют?\n",
        "- Какие переменные имеют сильную положительную корреляцию?\n",
        "- Какие переменные имеют сильную слабую корреляцию?\n",
        "\n",
        "p.s. сильная корреляция считаем abs(corr_coef) >= 0.7\n",
        "\n",
        "**Решение**\n",
        "1. Не корелируют переменные weekly_self_study_hours вместе с attendence_percentage, а также attendence_percentage вместе с total_score.\n",
        "\n",
        "2. сильную кореляцию имеют переменные weekly_self_study_hours вместе с total_score.\n",
        "\n",
        "3. Слабую кореляцию не имеет ни одна переменная."
      ],
      "metadata": {
        "id": "h6i4G7Xyuklx"
      }
    }
  ],
  "metadata": {
    "colab": {
      "provenance": []
    },
    "kernelspec": {
      "display_name": "Python 3",
      "name": "python3"
    },
    "language_info": {
      "name": "python"
    }
  },
  "nbformat": 4,
  "nbformat_minor": 0
}